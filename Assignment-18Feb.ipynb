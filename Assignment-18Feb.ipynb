{
 "cells": [
  {
   "cell_type": "markdown",
   "id": "74743a5c-487f-4e61-972b-dc9a670eb478",
   "metadata": {},
   "source": [
    "Que:1.  What is an API ? Give an example,where an API is used in real life."
   ]
  },
  {
   "cell_type": "markdown",
   "id": "8cc285d2-0011-4192-9489-f2556813c703",
   "metadata": {},
   "source": [
    "Ans: API:\n",
    "\n",
    "=> Application Programming Interface (API) is a software interface that allows two applications to interact with each other without any user intervention. \n",
    "\n",
    "=> API is a collection of software functions and procedures. In simple terms, API means a software code that can be accessed or executed. API is defined as a code that helps two different software’s to communicate and exchange data with each other.\n",
    "\n",
    "For example, we go to the bookmyshow site,we select the city then we enter the movie name, and credit card information, and behold, we print out tickets.\n",
    "\n",
    "They are collaborating with other applications. This integration is called seamless as you never have a clue when a software role is passed from one application to another.\n",
    "\n",
    "\n",
    "Another example :\n",
    "\n",
    "Online Payment Systems. Where digital money transfers occur, there is an API supporting the process. Many organizations choose to utilize APIs from a firm such as PayPal to provide secure, safe money transfers to their customers."
   ]
  },
  {
   "cell_type": "markdown",
   "id": "8fed5d19-51c5-4362-93f1-aba88390758b",
   "metadata": {},
   "source": [
    "Que:2. Give advantages and disadvantages of using API."
   ]
  },
  {
   "cell_type": "markdown",
   "id": "56f99a99-0110-4af1-84d8-63040d432e8c",
   "metadata": {},
   "source": [
    "Ans: Advantages :\n",
    "\n",
    "    1- Automation\n",
    "    \n",
    "    2- Developer efficiency and innovation\n",
    "    \n",
    "    3- It offers a valuable service (data, function, audience,.).\n",
    "\n",
    "    4- It helps you to plan a business model.\n",
    "\n",
    "    5- Simple, flexible, quickly adopted.\n",
    "\n",
    "    6- Managed and measured.\n",
    "    \n",
    "Disadvantages: \n",
    "    \n",
    "    1- Subjective \n",
    "    \n",
    "    2- Time consuming\n",
    "    \n",
    "    3- A fixed scale is necessary.\n",
    "    \n",
    "    4- Imprecise boundary delineation.\n",
    "    \n",
    "    5- Human error .\n",
    "    \n",
    "    6- Inconsistency in the use of a steady scale to the whole image."
   ]
  },
  {
   "cell_type": "markdown",
   "id": "e3e24255-3e43-415f-89ac-4419bd7584d3",
   "metadata": {},
   "source": [
    "Que:3. What is a Web API ? Difference between API and Web API."
   ]
  },
  {
   "cell_type": "markdown",
   "id": "df39bfd6-4930-460f-92de-982cd36a9f05",
   "metadata": {},
   "source": [
    "Ans: Web API :\n",
    "    \n",
    "A Web API is an application programming interface which is use either for web server or a web browser.\n",
    "\n",
    "Two types of Web APIs are :\n",
    "    1. Server-side API\n",
    "    2. Client-side API\n",
    " \n",
    " Difference between API and Web API:\n",
    "        \n",
    "Web API :\n",
    "    \n",
    "A Web API stands for Application Programming Interface. It is a software application that allows two different applications or machines to interact with each other without any user interference. The API contains a complete set of rules and specifications used when interacting with any web application.\n",
    "\n",
    "Data can be compressed.\n",
    "\n",
    "It may use any means of communication protocols such as HTTP/HTTPS to initiate the interaction between applications.\n",
    "\n",
    "\n",
    "An Web API is a complete set of rules and specifications that follow to facilitate the interaction.\n",
    "\n",
    "\n",
    "It uses XML, JSON or plain data as structured data.\n",
    "\n",
    "\n",
    "API :\n",
    "    \n",
    "API is the acronym for Application Programming Interface. It is a software interface that allows two applications to interact with each other without any user intervention.\n",
    "\n",
    "APIs provides product or service to communicate with other products and services without having to know how they’re implemented.\n",
    "\n",
    "API has a light-weight architecture.\n",
    "\n",
    "It can be used by a client who understands JSON or XML.\n",
    "\n",
    "API can be used for any style of communication.\n",
    "\n",
    "It provides support for the HTTP/s protocol: URL Request/Response Headers, etc.\n"
   ]
  },
  {
   "cell_type": "markdown",
   "id": "5b105a4c-8257-48e4-933f-95c485f24a6b",
   "metadata": {},
   "source": [
    "Que:4. Explain REST and SOAP Architecture.Mention shortcomings of SOAP."
   ]
  },
  {
   "cell_type": "markdown",
   "id": "1782b936-8ee1-4621-8bb3-e9d997cf569a",
   "metadata": {},
   "source": [
    "Ans: REST:\n",
    "    \n",
    "REST (Representational State Transfer) is an architectural approach for communication purposes often used in various web services development. It is a stateless client-server model. \n",
    "   \n",
    "A Rest could be use the normal HTTP verbs of GET, POST, PUT and DELETE for working with the required components.information can be transferred in various formats via HTTP like, JSON, HTML, XLT, and Plain Text.\n",
    "    \n",
    "SOAP: \n",
    "        \n",
    "SOAP (Simple Object Access Protocol) is an XML-based protocol for accessing web services over HTTP. It is developed as an intermediate language so that applications built in various programming languages can communicate with each other effectively. \n",
    "    \n",
    "SOAP supports both stateful and stateless operations. Stateful means that the server keeps the information that it receives from the client across multiple requests. \n",
    "    \n",
    "The main idea behind designing SOAP was to ensure that programs built on different platforms and programming languages could exchange data in an easy manner. \n",
    "    \n",
    "   \n",
    "Examples are bank transactions, flight bookings, etc. Stateless messaging has enough information about the state of the client so that the server does not have to bother.\n",
    "    \n",
    "    \n",
    "Shortcomings of SOAP: \n",
    "    \n",
    "SOAP only uses XML. It doesn’t take other formats like JSON into consideration.\n",
    "\n",
    "There is a high possibility of coupling between client and server as SOAP is based on contract.\n",
    "\n",
    "Since it uses XML format, SOAP is considered to be a slow platform because the payload is large for a simple string message.\n",
    "\n",
    "Any change in server contract is reflected in client stub classes.\n",
    "\n",
    "SOAP is hard to test in browsers.\n",
    "\n",
    "SOAP clients do not hold any stateful references to remote objects."
   ]
  },
  {
   "cell_type": "markdown",
   "id": "2949db91-80f4-435b-9edf-a182d5f7fa73",
   "metadata": {},
   "source": [
    "Que:5. Difference between REST and SOAP."
   ]
  },
  {
   "cell_type": "markdown",
   "id": "b64011d1-44da-42df-88e2-9dae4eed3844",
   "metadata": {},
   "source": [
    "Ans: SOAP:\n",
    "\n",
    "SOAP stands for Simple Object Access Protocol.\n",
    "    \n",
    "SOAP is by default stateless, but it is possible to make this API stateful.\n",
    "    \n",
    "It is functional-driven, means that data here is available as services, eg, getUser.\n",
    "    \n",
    "It has WS-security (Enterprise-level security) with SSL support. It also has built-in ACID(Atomicity, Consistency, Integrity, Durability) compliance which is a good feature for transactions and that’s why SOAP is used while exchanging sensitive information.\n",
    "    \n",
    "SOAP API calls cannot be cached.\n",
    "    \n",
    "It works on HTTP, SMP, UDP, etc. So it is recommended.\n",
    "    \n",
    "REST:\n",
    "        \n",
    " REST stands for Representational State Transfer.\n",
    "    \n",
    "It is stateful, i.e. no server-side sessions occur.\n",
    "    \n",
    "It is data-driven, meaning that data is available as resources.\n",
    "    \n",
    "It supports HTTPS and SSL (Secure Sockets Layer).\n",
    "    \n",
    "REST API calls can be cached.\n",
    "    \n",
    "It only works on HTTPS.\n",
    "    \n",
    "    "
   ]
  }
 ],
 "metadata": {
  "kernelspec": {
   "display_name": "Python 3 (ipykernel)",
   "language": "python",
   "name": "python3"
  },
  "language_info": {
   "codemirror_mode": {
    "name": "ipython",
    "version": 3
   },
   "file_extension": ".py",
   "mimetype": "text/x-python",
   "name": "python",
   "nbconvert_exporter": "python",
   "pygments_lexer": "ipython3",
   "version": "3.10.6"
  }
 },
 "nbformat": 4,
 "nbformat_minor": 5
}
